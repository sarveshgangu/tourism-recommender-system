{
 "cells": [
  {
   "cell_type": "code",
   "execution_count": 4,
   "id": "d72067aa",
   "metadata": {},
   "outputs": [],
   "source": [
    "import pandas as pd\n",
    "\n",
    "# Read the CSV file\n",
    "df = pd.read_csv('db1.csv')\n",
    "\n",
    "# Merge two columns\n",
    "merged_column = df['Type'].fillna('') + ' ' + df['Significance'].fillna('')\n",
    "\n",
    "# Split merged column into individual keywords\n",
    "keywords = ' '.join(merged_column).split()\n",
    "\n",
    "# Get unique keywords\n",
    "unique_keywords = list(set(keywords))\n",
    "\n",
    "# Create a DataFrame with single column of unique keywords\n",
    "result_df = pd.DataFrame(unique_keywords, columns=['Keywords'])\n",
    "\n",
    "# Save the result to a new CSV file\n",
    "result_df.to_csv('output_keywords.csv', index=False)\n"
   ]
  },
  {
   "cell_type": "code",
   "execution_count": 1,
   "id": "5fddd01a",
   "metadata": {},
   "outputs": [
    {
     "name": "stdout",
     "output_type": "stream",
     "text": [
      "                City                    Place  \\\n",
      "0  Aamby Valley City          19 Degree North   \n",
      "1  Aamby Valley City          19 Degree North   \n",
      "2  Aamby Valley City          19 Degree North   \n",
      "3  Aamby Valley City          19 Degree North   \n",
      "4  Aamby Valley City          19 Degree North   \n",
      "5  Aamby Valley City          19 Degree North   \n",
      "6  Aamby Valley City          19 Degree North   \n",
      "7           Abhaneri  Chand Baori (Step well)   \n",
      "8           Abhaneri  Chand Baori (Step well)   \n",
      "9           Abhaneri  Chand Baori (Step well)   \n",
      "\n",
      "                                              Review  Rating       Name  Date  \\\n",
      "0  aamby valley beautiful place clear blue skies ...       5  Anonymous   NaN   \n",
      "1  executed obt akshay thanx team thoroughly enjo...       4  Anonymous   NaN   \n",
      "2  awesome experience atv tracts obstacles mainta...       5  Anonymous   NaN   \n",
      "3  visited aamby valley yesterday short excursion...       4  Anonymous   NaN   \n",
      "4  far mumbai place finest adventure places visit...       5  Anonymous   NaN   \n",
      "5  yearn adrenaline rush place try atv forester m...       5  Anonymous   NaN   \n",
      "6  great adventure place recommend x jungle safar...       5  Anonymous   NaN   \n",
      "7  visit jaipur trip usually itinerary need ask t...       4  Anonymous   NaN   \n",
      "8  happen traveling jaipur agra vice versa detour...       3  Anonymous   NaN   \n",
      "9  chand bawari located villege abhaneri near dou...       3  Anonymous   NaN   \n",
      "\n",
      "                                          Raw_Review Matched_Keywords  \n",
      "0  Aamby valley is a beautiful place with its cle...           Valley  \n",
      "1  Very well executed obt by Akshay.... Thanx as ...             None  \n",
      "2  Awesome experience at the ATV\\nTracts and obst...             None  \n",
      "3  we visited the Aamby Valley yesterday for shor...           Valley  \n",
      "4  Not far from Mumbai, this place is one of the ...        Adventure  \n",
      "5  if you yearn for the adrenaline rush then this...         Mountain  \n",
      "6  A great adventure place .I recommend  there 4x...        Adventure  \n",
      "7  This is a must visit on your Jaipur trip. It i...             None  \n",
      "8  If you happen to be traveling from Jaipur to A...         Stepwell  \n",
      "9  Chand bawari is located in villege Abhaneri ne...           Temple  \n"
     ]
    }
   ],
   "source": [
    "import pandas as pd\n",
    "\n",
    "# Read the CSV files\n",
    "df_sentences = pd.read_csv('Review_db.csv')\n",
    "df_keywords = pd.read_csv('output_keywords.csv')\n",
    "\n",
    "# Initialize a new column to store matched keywords\n",
    "df_sentences['Matched_Keywords'] = None\n",
    "\n",
    "# Iterate through each sentence\n",
    "for index, sentence in df_sentences.iterrows():\n",
    "    matched_words = []\n",
    "    words = sentence['Review'].lower().split()\n",
    "    # Iterate through each keyword\n",
    "    for keyword in df_keywords['Keywords']:\n",
    "        # Check if the keyword exists in the sentence\n",
    "        if keyword.lower() in words:\n",
    "            matched_words.append(keyword)\n",
    "    # Join the matched words with space separator\n",
    "    matched_keywords_str = ' '.join(matched_words) if matched_words else None\n",
    "    # Update the 'Matched_Keywords' column for this sentence\n",
    "    df_sentences.at[index, 'Matched_Keywords'] = matched_keywords_str\n",
    "\n",
    "# Save the result to a new CSV file\n",
    "df_sentences.to_csv('output_sentences.csv', index=False)\n",
    "print(df_sentences.head(10))"
   ]
  },
  {
   "cell_type": "code",
   "execution_count": 2,
   "id": "7b1f48c8",
   "metadata": {},
   "outputs": [
    {
     "name": "stdout",
     "output_type": "stream",
     "text": [
      "                City                    Place  \\\n",
      "0  Aamby Valley City          19 Degree North   \n",
      "1  Aamby Valley City          19 Degree North   \n",
      "2  Aamby Valley City          19 Degree North   \n",
      "3  Aamby Valley City          19 Degree North   \n",
      "4  Aamby Valley City          19 Degree North   \n",
      "5  Aamby Valley City          19 Degree North   \n",
      "6  Aamby Valley City          19 Degree North   \n",
      "7           Abhaneri  Chand Baori (Step well)   \n",
      "8           Abhaneri  Chand Baori (Step well)   \n",
      "9           Abhaneri  Chand Baori (Step well)   \n",
      "\n",
      "                                              Review  Rating Matched_Keywords  \n",
      "0  aamby valley beautiful place clear blue skies ...       5           Valley  \n",
      "1  executed obt akshay thanx team thoroughly enjo...       4              NaN  \n",
      "2  awesome experience atv tracts obstacles mainta...       5              NaN  \n",
      "3  visited aamby valley yesterday short excursion...       4           Valley  \n",
      "4  far mumbai place finest adventure places visit...       5        Adventure  \n",
      "5  yearn adrenaline rush place try atv forester m...       5         Mountain  \n",
      "6  great adventure place recommend x jungle safar...       5        Adventure  \n",
      "7  visit jaipur trip usually itinerary need ask t...       4              NaN  \n",
      "8  happen traveling jaipur agra vice versa detour...       3         Stepwell  \n",
      "9  chand bawari located villege abhaneri near dou...       3           Temple  \n"
     ]
    }
   ],
   "source": [
    "import pandas as pd\n",
    "\n",
    "# Read the CSV file\n",
    "df = pd.read_csv('output_sentences.csv')\n",
    "\n",
    "# Drop two columns\n",
    "columns_to_drop = ['Date', 'Name','Raw_Review']\n",
    "df = df.drop(columns=columns_to_drop)\n",
    "\n",
    "# Save the modified DataFrame to a new CSV file\n",
    "df.to_csv('feature_selection.csv', index=False)\n",
    "print(df.head(10))"
   ]
  },
  {
   "cell_type": "code",
   "execution_count": 3,
   "id": "30d136dc",
   "metadata": {},
   "outputs": [
    {
     "name": "stdout",
     "output_type": "stream",
     "text": [
      "                                    Place               City  \\\n",
      "0                          1 MG Lido Mall          Bengaluru   \n",
      "1                           10 Acres Mall          Ahmedabad   \n",
      "2                      1008 Lingam Temple              Salem   \n",
      "3                    101 Ft. Hanuman Idol         Chhindwara   \n",
      "4  108 Feet Height Statue Of Basaveshwara              Bidar   \n",
      "5       108 Parshwanath Bhaktivihar Tirth       Shankheshwar   \n",
      "6                         108 Shiv Mandir              Kalna   \n",
      "7                    108 Vinayagar Temple           Dindigul   \n",
      "8                              11D Cinema  Bokaro Steel City   \n",
      "9                    1857 Memorial Museum            Lucknow   \n",
      "\n",
      "                                              Review  Rating  \\\n",
      "0  mg lido mall right trinity circle end bangalor...    4.26   \n",
      "1  acres mall ahmedabad city mall spans area acre...    3.20   \n",
      "2  shiv lingas spot good felt blessed great time ...    4.30   \n",
      "3  tall feet red coloured idol near chindwada nag...    4.50   \n",
      "4  tallest statue basaveshwara basava kalyan bida...    4.00   \n",
      "5  visited main shankheshwar parshwanath jain tem...    5.00   \n",
      "6  collection small temples shiva contains shiva ...    3.90   \n",
      "7  temple recently constructed gained significant...    5.00   \n",
      "8  experience watching film friends amazing audio...    4.50   \n",
      "9  little poetic licence narrative exhibits war i...    3.35   \n",
      "\n",
      "                                    Matched_Keywords  Review_Count  \n",
      "0  Mall Food Shopping Architectural Mall Point Ma...           107  \n",
      "1  Building Commercial Mall  Mall Shopping Entert...             5  \n",
      "2    Temple Hill Temples  Temple Hill Temples Tem...            90  \n",
      "3                                               Park             4  \n",
      "4   Development Monument Religious   Temple Fort                10  \n",
      "5                                   Spiritual Temple             1  \n",
      "6  Temples  Temple Complex Village Temples Temple...            41  \n",
      "7                                             Temple             1  \n",
      "8                               Food Film Mall Mall              4  \n",
      "9  War Museum Monument Memorial War Museum Museum...            23  \n"
     ]
    }
   ],
   "source": [
    "import pandas as pd\n",
    "\n",
    "# Read the CSV file\n",
    "df = pd.read_csv('feature_selection.csv')\n",
    "df['Matched_Keywords'].fillna(\"\", inplace=True)\n",
    "df['Matched_Keywords'] = df['Matched_Keywords'].astype(str)\n",
    "#df['Matched_Keywords2'] = df['Matched_Keywords'].apply(lambda x:x.split())\n",
    "\n",
    "# def join_keywords(keywords):\n",
    "#     keywords_list = literal_eval(keywords)\n",
    "#     # Join the list elements into a single string\n",
    "#     return ' '.join(keywords_list)\n",
    "\n",
    "#Group by 'City' and aggregate the data\n",
    "aggregated_df = df.groupby('Place').agg({\n",
    "    'City': 'first',  # Keep the first value of 'State' column\n",
    "    'Review': ' '.join,  # Merge 'Review' column\n",
    "    'Rating': 'mean',  # Calculate the mean of 'Rating' column\n",
    "    'Matched_Keywords' : ' '.join,\n",
    "})\n",
    "\n",
    "# Round the mean rating to two decimals\n",
    "aggregated_df['Rating'] = aggregated_df['Rating'].round(2)\n",
    "\n",
    "# Add a new column 'Count' which shows the number of rows merged for each city\n",
    "aggregated_df['Review_Count'] = df['Place'].value_counts()\n",
    "\n",
    "# Reset index to make 'City' a regular column\n",
    "aggregated_df.reset_index(inplace=True)\n",
    "\n",
    "# Save the aggregated DataFrame to a new CSV file\n",
    "aggregated_df.to_csv('aggregated.csv', index=False)\n",
    "print(aggregated_df.head(10))"
   ]
  },
  {
   "cell_type": "code",
   "execution_count": 4,
   "id": "572604ab",
   "metadata": {},
   "outputs": [],
   "source": [
    "import pandas as pd\n",
    "\n",
    "# Read the CSV file\n",
    "df = pd.read_csv('City.csv')\n",
    "\n",
    "# Merge two columns\n",
    "merged_column = df['Best_time_to_visit'].fillna('')\n",
    "\n",
    "# Split merged column into individual keywords\n",
    "keywords = ' '.join(merged_column).split()\n",
    "\n",
    "# Get unique keywords\n",
    "unique_keywords = list(set(keywords))\n",
    "\n",
    "# Create a DataFrame with single column of unique keywords\n",
    "result_df = pd.DataFrame(unique_keywords, columns=['Keywords'])\n",
    "\n",
    "# Save the result to a new CSV file\n",
    "result_df.to_csv('output_period.csv', index=False)"
   ]
  },
  {
   "cell_type": "code",
   "execution_count": 5,
   "id": "459aeadd",
   "metadata": {},
   "outputs": [],
   "source": [
    "import pandas as pd\n",
    "import numpy as np\n",
    "\n",
    "# Function to randomly choose a default value\n",
    "def random_default_value(default_values):\n",
    "    return np.random.choice(default_values)\n",
    "\n",
    "# Read the first CSV file with city and time to watch\n",
    "df1 = pd.read_csv('city.csv')\n",
    "\n",
    "columns_to_drop = ['City_desc', 'Ratings', 'Ideal_duration']\n",
    "df1 = df1.drop(columns=columns_to_drop)\n",
    "\n",
    "# Read the second CSV file with city and other columns\n",
    "df2 = pd.read_csv('aggregated.csv')\n",
    "\n",
    "# Merge the two DataFrames based on the 'city' column\n",
    "merged_df = pd.merge(df2, df1, on='City', how='left')\n",
    "\n",
    "# Define default value options\n",
    "default_values_df = pd.read_csv('output_period.csv')\n",
    "default_values = default_values_df['Keywords'].tolist()\n",
    "\n",
    "# Fill NaN values in the 'Best_time_to_visit' column with a randomly chosen default value\n",
    "merged_df['Best_time_to_visit'] = merged_df['Best_time_to_visit'].apply(lambda x: random_default_value(default_values) if pd.isnull(x) else x)\n",
    "\n",
    "# Save the merged DataFrame to a new CSV file\n",
    "merged_df.to_csv('time_added1.csv', index=False)\n"
   ]
  },
  {
   "cell_type": "code",
   "execution_count": 6,
   "id": "c3f3a37f",
   "metadata": {},
   "outputs": [
    {
     "name": "stdout",
     "output_type": "stream",
     "text": [
      "Removed non english words\n"
     ]
    }
   ],
   "source": [
    "import pandas as pd\n",
    "import re\n",
    "# Read the CSV file\n",
    "df = pd.read_csv('time_added1.csv')\n",
    "def remove_non_english(sentence):\n",
    "    # Define a regular expression pattern to match non-English characters\n",
    "    non_english_pattern = re.compile(r'[^\\x00-\\x7F]+')\n",
    "    # Replace non-English characters with an empty string\n",
    "    english_sentence = re.sub(non_english_pattern, '', sentence)\n",
    "    return english_sentence.strip()  # Remove leading and trailing whitespaces\n",
    "df['Review'] = df['Review'].apply(remove_non_english)\n",
    "print(\"Removed non english words\")"
   ]
  },
  {
   "cell_type": "code",
   "execution_count": 7,
   "id": "28ac866f",
   "metadata": {},
   "outputs": [],
   "source": [
    "# Specify the column containing multiple words\n",
    "column_name = 'Review'\n",
    "\n",
    "# Function to make values unique within each row\n",
    "def make_unique(row):\n",
    "    words = row[column_name].split()  # Split the string into words\n",
    "    unique_words = list(set(words))   # Remove duplicates by converting to set and then back to list\n",
    "    return ' '.join(unique_words)     # Join the unique words back into a string\n",
    "\n",
    "# Apply the function to the specified column\n",
    "df['Review'] = df.apply(make_unique, axis=1)\n"
   ]
  },
  {
   "cell_type": "code",
   "execution_count": 8,
   "id": "131647b8",
   "metadata": {},
   "outputs": [],
   "source": [
    "# Specify the column containing multiple words\n",
    "column_name = 'Matched_Keywords'\n",
    "\n",
    "# Function to make values unique within each row\n",
    "def make_unique(row):\n",
    "    if pd.isnull(row[column_name]):  # Check if the value is NaN\n",
    "        return row[column_name]      # If NaN, return it as it is\n",
    "    else:\n",
    "        words = row[column_name].split()  # Split the string into words\n",
    "        unique_words = list(set(words))   # Remove duplicates by converting to set and then back to list\n",
    "        return ' '.join(unique_words)     # Join the unique words back into a string\n",
    "\n",
    "# Apply the function to the specified column\n",
    "df['Matched_Keywords'] = df.apply(make_unique, axis=1)"
   ]
  },
  {
   "cell_type": "code",
   "execution_count": 9,
   "id": "5376db31",
   "metadata": {},
   "outputs": [
    {
     "data": {
      "text/plain": [
       "350"
      ]
     },
     "execution_count": 9,
     "metadata": {},
     "output_type": "execute_result"
    }
   ],
   "source": [
    "df['Matched_Keywords'].isna().sum()"
   ]
  },
  {
   "cell_type": "code",
   "execution_count": 10,
   "id": "47f8f590",
   "metadata": {},
   "outputs": [],
   "source": [
    "# Save the updated DataFrame to a new CSV file\n",
    "df_cleaned = df.dropna(how='any')\n",
    "df_cleaned.to_csv('updated_file.csv', index=False)"
   ]
  },
  {
   "cell_type": "code",
   "execution_count": 11,
   "id": "43ff7c68",
   "metadata": {},
   "outputs": [
    {
     "name": "stdout",
     "output_type": "stream",
     "text": [
      "<class 'pandas.core.frame.DataFrame'>\n",
      "RangeIndex: 14144 entries, 0 to 14143\n",
      "Data columns (total 7 columns):\n",
      " #   Column              Non-Null Count  Dtype  \n",
      "---  ------              --------------  -----  \n",
      " 0   Place               14144 non-null  object \n",
      " 1   City                14144 non-null  object \n",
      " 2   Review              14144 non-null  object \n",
      " 3   Rating              14144 non-null  float64\n",
      " 4   Matched_Keywords    13751 non-null  object \n",
      " 5   Review_Count        14144 non-null  int64  \n",
      " 6   Best_time_to_visit  14144 non-null  object \n",
      "dtypes: float64(1), int64(1), object(5)\n",
      "memory usage: 773.6+ KB\n"
     ]
    }
   ],
   "source": [
    "# Read the CSV file\n",
    "df = pd.read_csv('updated_file.csv')\n",
    "\n",
    "df.info()"
   ]
  },
  {
   "cell_type": "code",
   "execution_count": 12,
   "id": "be0f98c5",
   "metadata": {},
   "outputs": [
    {
     "name": "stdout",
     "output_type": "stream",
     "text": [
      "count    14144.000000\n",
      "mean       104.787613\n",
      "std        484.350227\n",
      "min          1.000000\n",
      "25%          4.000000\n",
      "50%         13.000000\n",
      "75%         46.000000\n",
      "max      23231.000000\n",
      "Name: Review_Count, dtype: float64\n"
     ]
    },
    {
     "data": {
      "image/png": "[encoded data removed]",
      "text/plain": [
       "<Figure size 1000x600 with 1 Axes>"
      ]
     },
     "metadata": {},
     "output_type": "display_data"
    }
   ],
   "source": [
    "import pandas as pd\n",
    "import matplotlib.pyplot as plt\n",
    "\n",
    "# Load your data into a DataFrame\n",
    "# Assuming your DataFrame is named df\n",
    "# Example: df = pd.read_csv('your_data.csv')\n",
    "\n",
    "# Describe the column to get statistical summary\n",
    "column_name = 'Review_Count'\n",
    "column_description = df[column_name].describe()\n",
    "print(column_description)\n",
    "\n",
    "# Plot a histogram\n",
    "plt.figure(figsize=(10, 6))\n",
    "plt.hist(df[column_name], bins=20, color='skyblue', edgecolor='black')\n",
    "plt.xlabel(column_name)\n",
    "plt.ylabel('Frequency')\n",
    "plt.title('Distribution of {}'.format(column_name))\n",
    "plt.grid(True)\n",
    "plt.show()\n"
   ]
  },
  {
   "cell_type": "code",
   "execution_count": 13,
   "id": "4b597e73",
   "metadata": {},
   "outputs": [
    {
     "data": {
      "image/png": "[encoded data removed]",
      "text/plain": [
       "<Figure size 1000x600 with 1 Axes>"
      ]
     },
     "metadata": {},
     "output_type": "display_data"
    }
   ],
   "source": [
    "import pandas as pd\n",
    "import matplotlib.pyplot as plt\n",
    "\n",
    "# Load your data into a DataFrame\n",
    "# Example: df = pd.read_csv('your_data.csv')\n",
    "\n",
    "# Specify the column you want to analyze\n",
    "column_name = 'Review_Count'\n",
    "\n",
    "# Create the histogram with logarithmic scale\n",
    "plt.figure(figsize=(10, 6))\n",
    "plt.hist(df[column_name], bins=50, color='skyblue', edgecolor='black', alpha=0.7, log=True)\n",
    "plt.xlabel(column_name)\n",
    "plt.ylabel('Frequency')\n",
    "plt.title('Histogram of {} (log scale)'.format(column_name))\n",
    "plt.grid(True)\n",
    "plt.show()\n",
    "\n"
   ]
  },
  {
   "cell_type": "code",
   "execution_count": 14,
   "id": "5174e14e",
   "metadata": {},
   "outputs": [
    {
     "name": "stdout",
     "output_type": "stream",
     "text": [
      "Value covering 90% of the data (using percentile): 64.0\n",
      "Value covering 90% of the data (using CDF): 6632\n"
     ]
    }
   ],
   "source": [
    "import numpy as np\n",
    "\n",
    "# Assuming your DataFrame is named df and the column is 'num_ratings'\n",
    "# Example: data = df['num_ratings']\n",
    "data = df['Review_Count']\n",
    "# Sort the data\n",
    "sorted_data = np.sort(data)\n",
    "\n",
    "# Calculate the cumulative distribution function (CDF)\n",
    "cdf = np.cumsum(sorted_data) / np.sum(sorted_data)\n",
    "\n",
    "# Find the value that covers 90% of the data\n",
    "percentile_90 = np.percentile(sorted_data, 80)\n",
    "index_90 = np.argmax(cdf >= 0.9)\n",
    "\n",
    "print(\"Value covering 90% of the data (using percentile):\", percentile_90)\n",
    "print(\"Value covering 90% of the data (using CDF):\", sorted_data[index_90])\n"
   ]
  },
  {
   "cell_type": "code",
   "execution_count": 15,
   "id": "35feb0f6",
   "metadata": {},
   "outputs": [
    {
     "name": "stdout",
     "output_type": "stream",
     "text": [
      "count    14144.000000\n",
      "mean         4.146575\n",
      "std          0.454564\n",
      "min          1.000000\n",
      "25%          3.950000\n",
      "50%          4.180000\n",
      "75%          4.430000\n",
      "max          5.000000\n",
      "Name: Rating, dtype: float64\n"
     ]
    },
    {
     "data": {
      "image/png": "[encoded data removed]",
      "text/plain": [
       "<Figure size 1000x600 with 1 Axes>"
      ]
     },
     "metadata": {},
     "output_type": "display_data"
    }
   ],
   "source": [
    "import pandas as pd\n",
    "import matplotlib.pyplot as plt\n",
    "df = pd.read_csv('updated_file.csv')\n",
    "# Load your data into a DataFrame\n",
    "# Assuming your DataFrame is named df\n",
    "# Example: df = pd.read_csv('your_data.csv')\n",
    "\n",
    "# Describe the column to get statistical summary\n",
    "column_name = 'Rating'\n",
    "column_description = df[column_name].describe()\n",
    "print(column_description)\n",
    "\n",
    "# Plot a histogram\n",
    "plt.figure(figsize=(10, 6))\n",
    "plt.hist(df[column_name], bins=20, color='skyblue', edgecolor='black')\n",
    "plt.xlabel(column_name)\n",
    "plt.ylabel('Frequency')\n",
    "plt.title('Distribution of {}'.format(column_name))\n",
    "plt.grid(True)\n",
    "plt.show()\n"
   ]
  },
  {
   "cell_type": "code",
   "execution_count": 16,
   "id": "1f827070",
   "metadata": {},
   "outputs": [
    {
     "name": "stdout",
     "output_type": "stream",
     "text": [
      "                                    Place               City  \\\n",
      "0                          1 MG Lido Mall          Bengaluru   \n",
      "1                           10 Acres Mall          Ahmedabad   \n",
      "2                      1008 Lingam Temple              Salem   \n",
      "3                    101 Ft. Hanuman Idol         Chhindwara   \n",
      "4  108 Feet Height Statue Of Basaveshwara              Bidar   \n",
      "5       108 Parshwanath Bhaktivihar Tirth       Shankheshwar   \n",
      "6                         108 Shiv Mandir              Kalna   \n",
      "7                    108 Vinayagar Temple           Dindigul   \n",
      "8                              11D Cinema  Bokaro Steel City   \n",
      "9                    1857 Memorial Museum            Lucknow   \n",
      "\n",
      "                                              Review  Rating  \\\n",
      "0  decorative elegant think kulfi cuisines friend...    4.26   \n",
      "1  cinema closed wash theatre reliance extra skip...    3.20   \n",
      "2  peryakovil suitable security mission vinayaga ...    4.30   \n",
      "3  p pradesh near come tall lord surroundings lar...    4.50   \n",
      "4  memorable camera marauders authority mantap as...    4.00   \n",
      "5  parshwanath temple parshwanth span main tranqu...    5.00   \n",
      "6  godly rickshaw received facilities tandem near...    3.90   \n",
      "7  temple importance installed dindigul actually ...    5.00   \n",
      "8  excellent comfortable think needs watching wat...    4.50   \n",
      "9  popular excellent permitted ideal documented m...    3.35   \n",
      "\n",
      "                                    Matched_Keywords  Review_Count  \\\n",
      "0  Sports Gurudwara Food Tea Commercial Lake Chur...           107   \n",
      "1    Commercial Entertainment Building Mall Shopping             5   \n",
      "2  Hill Food Religious Ground Temple Mountain Cen...            90   \n",
      "3                                               Park             4   \n",
      "4         Religious Temple Monument Fort Development            10   \n",
      "5                                   Spiritual Temple             1   \n",
      "6  Marvel Village Food Religious Lake Historical ...            41   \n",
      "7                                             Temple             1   \n",
      "8                                     Mall Film Food             4   \n",
      "9  Feature Memorial Historical Monument Building ...            23   \n",
      "\n",
      "  Best_time_to_visit  popularity  \n",
      "0       OctoberMarch    0.852000  \n",
      "1         July-March    0.361667  \n",
      "2    September-March    0.860000  \n",
      "3      October-March    0.483333  \n",
      "4        JulyOctober    0.483333  \n",
      "5                  -    0.508333  \n",
      "6    September-March    0.731667  \n",
      "7      April-October    0.508333  \n",
      "8      SeptemberJune    0.483333  \n",
      "9      October-March    0.526667  \n"
     ]
    },
    {
     "data": {
      "text/plain": [
       "count    14144.000000\n",
       "mean         0.593154\n",
       "std          0.170799\n",
       "min          0.250000\n",
       "25%          0.466667\n",
       "50%          0.531000\n",
       "75%          0.764000\n",
       "max          0.980000\n",
       "Name: popularity, dtype: float64"
      ]
     },
     "execution_count": 16,
     "metadata": {},
     "output_type": "execute_result"
    }
   ],
   "source": [
    "import pandas as pd\n",
    "import matplotlib.pyplot as plt\n",
    "df = pd.read_csv('updated_file.csv')\n",
    "\n",
    "def calculate_popularity(average_rating, num_ratings):\n",
    "    \"\"\"\n",
    "    Calculate the popularity score based on average rating and number of ratings.\n",
    "\n",
    "    Args:\n",
    "        average_rating (float): The average rating of the item.\n",
    "        num_ratings (int): The number of ratings the item has received.\n",
    "\n",
    "    Returns:\n",
    "        float: The popularity score of the item.\n",
    "    \"\"\"\n",
    "    # If the number of ratings is more than 100, assign a popularity of 1\n",
    "    if average_rating <= 2:\n",
    "        return 0.25\n",
    "    # If the average rating is 2 or below, assign a popularity of 0.5\n",
    "    elif num_ratings > 60:\n",
    "        popularity_score = (average_rating/5)\n",
    "        return popularity_score\n",
    "    else:\n",
    "        popularity_score = (0.5 * (average_rating / 5)) + (0.5 * (num_ratings /60))\n",
    "        return popularity_score\n",
    "\n",
    "# Apply the function to create the \"popularity\" column\n",
    "df['popularity'] = df.apply(lambda row: calculate_popularity(row['Rating'], row['Review_Count']), axis=1)\n",
    "df.to_csv('popularity.csv', index=False)\n",
    "print(df.head(10))\n",
    "df['popularity'].describe()"
   ]
  },
  {
   "cell_type": "code",
   "execution_count": 17,
   "id": "2cdfc889",
   "metadata": {},
   "outputs": [
    {
     "name": "stdout",
     "output_type": "stream",
     "text": [
      "count    14144.000000\n",
      "mean         0.593154\n",
      "std          0.170799\n",
      "min          0.250000\n",
      "25%          0.466667\n",
      "50%          0.531000\n",
      "75%          0.764000\n",
      "max          0.980000\n",
      "Name: popularity, dtype: float64\n"
     ]
    },
    {
     "data": {
      "image/png": "[encoded data removed]",
      "text/plain": [
       "<Figure size 1000x600 with 1 Axes>"
      ]
     },
     "metadata": {},
     "output_type": "display_data"
    }
   ],
   "source": [
    "import pandas as pd\n",
    "import matplotlib.pyplot as plt\n",
    "df = pd.read_csv('popularity.csv')\n",
    "# Load your data into a DataFrame\n",
    "# Assuming your DataFrame is named df\n",
    "# Example: df = pd.read_csv('your_data.csv')\n",
    "\n",
    "# Describe the column to get statistical summary\n",
    "column_name = 'popularity'\n",
    "column_description = df[column_name].describe()\n",
    "print(column_description)\n",
    "\n",
    "# Plot a histogram\n",
    "plt.figure(figsize=(10, 6))\n",
    "plt.hist(df[column_name], bins=20, color='skyblue', edgecolor='black')\n",
    "plt.xlabel(column_name)\n",
    "plt.ylabel('Frequency')\n",
    "plt.title('Distribution of {}'.format(column_name))\n",
    "plt.grid(True)\n",
    "plt.show()"
   ]
  },
  {
   "cell_type": "code",
   "execution_count": 18,
   "id": "7a16e1ab",
   "metadata": {},
   "outputs": [
    {
     "name": "stdout",
     "output_type": "stream",
     "text": [
      "393\n",
      "['Sports Gurudwara Food Tea Commercial Lake Church Entertainment Architectural Building Mall Cricket Point Park Shopping Market'\n",
      " 'Commercial Entertainment Building Mall Shopping'\n",
      " 'Hill Food Religious Ground Temple Mountain Center Spiritual Temples Landmark Complex National Garden Engineering'\n",
      " ... 'Natural Adventure Village Nature Trekking Mountain'\n",
      " 'Gurudwara Food Swim Ghat Religious Commercial Nature Temple Spiritual Center Temples Waterfall River Rock Crossing'\n",
      " 'Palace Commercial Food Resort Cultural']\n",
      "0\n",
      "['Sports Gurudwara Food Tea Commercial Lake Church Entertainment Architectural Building Mall Cricket Point Park Shopping Market'\n",
      " 'Commercial Entertainment Building Mall Shopping'\n",
      " 'Hill Food Religious Ground Temple Mountain Center Spiritual Temples Landmark Complex National Garden Engineering'\n",
      " ... 'Natural Adventure Village Nature Trekking Mountain'\n",
      " 'Gurudwara Food Swim Ghat Religious Commercial Nature Temple Spiritual Center Temples Waterfall River Rock Crossing'\n",
      " 'Palace Commercial Food Resort Cultural']\n",
      "                                    Place        City  \\\n",
      "0                          1 MG Lido Mall   Bengaluru   \n",
      "1                           10 Acres Mall   Ahmedabad   \n",
      "2                      1008 Lingam Temple       Salem   \n",
      "3                    101 Ft. Hanuman Idol  Chhindwara   \n",
      "4  108 Feet Height Statue Of Basaveshwara       Bidar   \n",
      "\n",
      "                                              Review  Rating  \\\n",
      "0  decorative elegant think kulfi cuisines friend...    4.26   \n",
      "1  cinema closed wash theatre reliance extra skip...    3.20   \n",
      "2  peryakovil suitable security mission vinayaga ...    4.30   \n",
      "3  p pradesh near come tall lord surroundings lar...    4.50   \n",
      "4  memorable camera marauders authority mantap as...    4.00   \n",
      "\n",
      "                                    Matched_Keywords  Review_Count  \\\n",
      "0  Sports Gurudwara Food Tea Commercial Lake Chur...           107   \n",
      "1    Commercial Entertainment Building Mall Shopping             5   \n",
      "2  Hill Food Religious Ground Temple Mountain Cen...            90   \n",
      "3                                               Park             4   \n",
      "4         Religious Temple Monument Fort Development            10   \n",
      "\n",
      "  Best_time_to_visit  popularity  \n",
      "0       OctoberMarch    0.852000  \n",
      "1         July-March    0.361667  \n",
      "2    September-March    0.860000  \n",
      "3      October-March    0.483333  \n",
      "4        JulyOctober    0.483333  \n"
     ]
    }
   ],
   "source": [
    "import pandas as pd\n",
    "import matplotlib.pyplot as plt\n",
    "df = pd.read_csv('popularity.csv')\n",
    "num1 = df['Matched_Keywords'].isna().sum()\n",
    "print(num1)\n",
    "print(df['Matched_Keywords'].unique())\n",
    "df['Matched_Keywords'].dropna(inplace = True)\n",
    "df.dropna(how='any',inplace = True)\n",
    "num1 = df['Matched_Keywords'].isna().sum()\n",
    "print(num1)\n",
    "print(df['Matched_Keywords'].unique())\n",
    "print(df.head())\n",
    "df.to_csv('final.csv', index=False)"
   ]
  },
  {
   "cell_type": "code",
   "execution_count": null,
   "id": "54c99395",
   "metadata": {},
   "outputs": [],
   "source": []
  }
 ],
 "metadata": {
  "kernelspec": {
   "display_name": "Python 3 (ipykernel)",
   "language": "python",
   "name": "python3"
  },
  "language_info": {
   "codemirror_mode": {
    "name": "ipython",
    "version": 3
   },
   "file_extension": ".py",
   "mimetype": "text/x-python",
   "name": "python",
   "nbconvert_exporter": "python",
   "pygments_lexer": "ipython3",
   "version": "3.9.13"
  }
 },
 "nbformat": 4,
 "nbformat_minor": 5
}
